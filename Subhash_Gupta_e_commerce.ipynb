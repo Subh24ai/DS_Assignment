{
 "cells": [
  {
   "cell_type": "code",
   "execution_count": 1,
   "metadata": {},
   "outputs": [],
   "source": [
    "import pandas as pd\n",
    "import numpy as np\n",
    "from sklearn.metrics.pairwise import cosine_similarity\n",
    "from sklearn.cluster import KMeans\n",
    "from sklearn.preprocessing import StandardScaler\n",
    "import matplotlib.pyplot as plt\n",
    "import seaborn as sns\n",
    "from sklearn.metrics import davies_bouldin_score"
   ]
  },
  {
   "cell_type": "code",
   "execution_count": 2,
   "metadata": {},
   "outputs": [],
   "source": [
    "# Now here i loaded the datasets\n",
    "customers = pd.read_csv('Customers.csv')\n",
    "products = pd.read_csv('Products.csv')\n",
    "transactions = pd.read_csv('Transactions.csv')"
   ]
  },
  {
   "cell_type": "markdown",
   "metadata": {},
   "source": [
    "### Task 1: Exploratory Data Analysis (EDA)"
   ]
  },
  {
   "cell_type": "code",
   "execution_count": 3,
   "metadata": {},
   "outputs": [],
   "source": [
    "# Merge datasets for comprehensive analysis\n",
    "data = transactions.merge(customers, on='CustomerID').merge(products, on='ProductID')"
   ]
  },
  {
   "cell_type": "code",
   "execution_count": 5,
   "metadata": {},
   "outputs": [
    {
     "name": "stdout",
     "output_type": "stream",
     "text": [
      "<class 'pandas.core.frame.DataFrame'>\n",
      "RangeIndex: 1000 entries, 0 to 999\n",
      "Data columns (total 13 columns):\n",
      " #   Column           Non-Null Count  Dtype  \n",
      "---  ------           --------------  -----  \n",
      " 0   TransactionID    1000 non-null   object \n",
      " 1   CustomerID       1000 non-null   object \n",
      " 2   ProductID        1000 non-null   object \n",
      " 3   TransactionDate  1000 non-null   object \n",
      " 4   Quantity         1000 non-null   int64  \n",
      " 5   TotalValue       1000 non-null   float64\n",
      " 6   Price_x          1000 non-null   float64\n",
      " 7   CustomerName     1000 non-null   object \n",
      " 8   Region           1000 non-null   object \n",
      " 9   SignupDate       1000 non-null   object \n",
      " 10  ProductName      1000 non-null   object \n",
      " 11  Category         1000 non-null   object \n",
      " 12  Price_y          1000 non-null   float64\n",
      "dtypes: float64(3), int64(1), object(9)\n",
      "memory usage: 101.7+ KB\n",
      "None\n"
     ]
    }
   ],
   "source": [
    "print(data.info())"
   ]
  },
  {
   "cell_type": "code",
   "execution_count": 6,
   "metadata": {},
   "outputs": [
    {
     "name": "stdout",
     "output_type": "stream",
     "text": [
      "          Quantity   TotalValue     Price_x     Price_y\n",
      "count  1000.000000  1000.000000  1000.00000  1000.00000\n",
      "mean      2.537000   689.995560   272.55407   272.55407\n",
      "std       1.117981   493.144478   140.73639   140.73639\n",
      "min       1.000000    16.080000    16.08000    16.08000\n",
      "25%       2.000000   295.295000   147.95000   147.95000\n",
      "50%       3.000000   588.880000   299.93000   299.93000\n",
      "75%       4.000000  1011.660000   404.40000   404.40000\n",
      "max       4.000000  1991.040000   497.76000   497.76000\n"
     ]
    }
   ],
   "source": [
    "print(data.describe())"
   ]
  },
  {
   "cell_type": "code",
   "execution_count": 7,
   "metadata": {},
   "outputs": [
    {
     "name": "stdout",
     "output_type": "stream",
     "text": [
      "Top 5 products by sales:\n",
      " ProductName\n",
      "ActiveWear Smartwatch    39096.97\n",
      "SoundWave Headphones     25211.64\n",
      "SoundWave Novel          24507.90\n",
      "ActiveWear Jacket        22712.56\n",
      "ActiveWear Rug           22314.43\n",
      "Name: TotalValue, dtype: float64\n"
     ]
    }
   ],
   "source": [
    "# 1. Top 5 products by sales\n",
    "product_sales = data.groupby('ProductName')['TotalValue'].sum().sort_values(ascending=False).head(5)\n",
    "print(\"Top 5 products by sales:\\n\", product_sales)"
   ]
  },
  {
   "cell_type": "code",
   "execution_count": 8,
   "metadata": {},
   "outputs": [
    {
     "name": "stdout",
     "output_type": "stream",
     "text": [
      "Most active customers:\n",
      " CustomerID\n",
      "C0109    11\n",
      "C0156    11\n",
      "C0141    10\n",
      "C0175    10\n",
      "C0065    10\n",
      "Name: count, dtype: int64\n"
     ]
    }
   ],
   "source": [
    "# 2. Most active customers (by number of transactions)\n",
    "active_customers = data['CustomerID'].value_counts().head(5)\n",
    "print(\"Most active customers:\\n\", active_customers)"
   ]
  },
  {
   "cell_type": "code",
   "execution_count": 9,
   "metadata": {},
   "outputs": [
    {
     "name": "stdout",
     "output_type": "stream",
     "text": [
      "Total sales by region:\n",
      " Region\n",
      "Asia             152074.97\n",
      "Europe           166254.63\n",
      "North America    152313.40\n",
      "South America    219352.56\n",
      "Name: TotalValue, dtype: float64\n"
     ]
    }
   ],
   "source": [
    "# 3. Total sales by region\n",
    "region_sales = data.groupby('Region')['TotalValue'].sum()\n",
    "print(\"Total sales by region:\\n\", region_sales)"
   ]
  },
  {
   "cell_type": "code",
   "execution_count": 10,
   "metadata": {},
   "outputs": [
    {
     "name": "stdout",
     "output_type": "stream",
     "text": [
      "Monthly sales trend:\n",
      " Month\n",
      "2023-12     3769.52\n",
      "2024-01    66376.39\n",
      "2024-02    51459.27\n",
      "2024-03    47828.73\n",
      "2024-04    57519.06\n",
      "2024-05    64527.74\n",
      "2024-06    48771.18\n",
      "2024-07    71366.39\n",
      "2024-08    63436.74\n",
      "2024-09    70603.75\n",
      "2024-10    47063.22\n",
      "2024-11    38224.37\n",
      "2024-12    59049.20\n",
      "Freq: M, Name: TotalValue, dtype: float64\n"
     ]
    }
   ],
   "source": [
    "# 4. Monthly sales trend\n",
    "data['TransactionDate'] = pd.to_datetime(data['TransactionDate'])\n",
    "data['Month'] = data['TransactionDate'].dt.to_period('M')\n",
    "monthly_sales = data.groupby('Month')['TotalValue'].sum()\n",
    "print(\"Monthly sales trend:\\n\", monthly_sales)"
   ]
  },
  {
   "cell_type": "code",
   "execution_count": 11,
   "metadata": {},
   "outputs": [
    {
     "name": "stdout",
     "output_type": "stream",
     "text": [
      "Customer signup trends:\n",
      " SignupYear\n",
      "2024    387\n",
      "2022    332\n",
      "2023    281\n",
      "Name: count, dtype: int64\n"
     ]
    }
   ],
   "source": [
    "# 5. Customer signup trends\n",
    "data['SignupDate'] = pd.to_datetime(data['SignupDate'])\n",
    "data['SignupYear'] = data['SignupDate'].dt.year\n",
    "signup_trends = data['SignupYear'].value_counts()\n",
    "print(\"Customer signup trends:\\n\", signup_trends)"
   ]
  },
  {
   "cell_type": "markdown",
   "metadata": {},
   "source": [
    "### Task 2: Lookalike Model"
   ]
  },
  {
   "cell_type": "code",
   "execution_count": 13,
   "metadata": {},
   "outputs": [
    {
     "name": "stdout",
     "output_type": "stream",
     "text": [
      "Index(['TransactionID', 'CustomerID', 'ProductID', 'TransactionDate',\n",
      "       'Quantity', 'TotalValue', 'Price_x', 'CustomerName', 'Region',\n",
      "       'SignupDate', 'ProductName', 'Category', 'Price_y', 'Month',\n",
      "       'SignupYear'],\n",
      "      dtype='object')\n"
     ]
    }
   ],
   "source": [
    "print(data.columns)"
   ]
  },
  {
   "cell_type": "code",
   "execution_count": 14,
   "metadata": {},
   "outputs": [],
   "source": [
    "# Aggregate customer data\n",
    "customer_profiles = data.groupby('CustomerID').agg({\n",
    "    'TotalValue': 'sum',\n",
    "    'Quantity': 'sum',\n",
    "    'Price_x': 'mean',\n",
    "    'Region': lambda x: x.mode()[0]  # Most frequent region\n",
    "}).reset_index()"
   ]
  },
  {
   "cell_type": "code",
   "execution_count": 15,
   "metadata": {},
   "outputs": [],
   "source": [
    "# Encode region as numeric\n",
    "dummy_regions = pd.get_dummies(customer_profiles['Region'], prefix='Region')\n",
    "customer_profiles = pd.concat([customer_profiles, dummy_regions], axis=1).drop('Region', axis=1)"
   ]
  },
  {
   "cell_type": "code",
   "execution_count": 16,
   "metadata": {},
   "outputs": [],
   "source": [
    "# Compute similarity\n",
    "similarity_matrix = cosine_similarity(customer_profiles.iloc[:, 1:])"
   ]
  },
  {
   "cell_type": "code",
   "execution_count": 17,
   "metadata": {},
   "outputs": [],
   "source": [
    "# Find top 3 similar customers for first 20 customers\n",
    "lookalikes = {}\n",
    "for i in range(20):\n",
    "    similar_indices = np.argsort(-similarity_matrix[i])[1:4]  # Exclude self (index 0)\n",
    "    lookalikes[customer_profiles['CustomerID'].iloc[i]] = [\n",
    "        (customer_profiles['CustomerID'].iloc[j], similarity_matrix[i][j]) for j in similar_indices\n",
    "    ]"
   ]
  },
  {
   "cell_type": "code",
   "execution_count": 18,
   "metadata": {},
   "outputs": [],
   "source": [
    "# Save lookalike results\n",
    "lookalike_df = pd.DataFrame({\n",
    "    'CustomerID': [key for key in lookalikes],\n",
    "    'Lookalikes': [value for value in lookalikes.values()]\n",
    "})\n",
    "lookalike_df.to_csv('Lookalike.csv', index=False)"
   ]
  },
  {
   "cell_type": "code",
   "execution_count": 26,
   "metadata": {},
   "outputs": [
    {
     "name": "stdout",
     "output_type": "stream",
     "text": [
      "   CustomerID                                         Lookalikes\n",
      "0       C0001  [(C0024, 0.9999995602895471), (C0189, 0.999999...\n",
      "1       C0002  [(C0129, 0.9999986241739094), (C0019, 0.999997...\n",
      "2       C0003  [(C0179, 0.9999986381164016), (C0190, 0.999997...\n",
      "3       C0004  [(C0045, 0.9999997425878637), (C0143, 0.999999...\n",
      "4       C0005  [(C0132, 0.9999940595499688), (C0089, 0.999992...\n",
      "5       C0006  [(C0152, 0.9999999408020365), (C0011, 0.999999...\n",
      "6       C0007  [(C0085, 0.9999994629015712), (C0061, 0.999999...\n",
      "7       C0008  [(C0162, 0.9999994853786862), (C0018, 0.999999...\n",
      "8       C0009  [(C0080, 0.9999989356162494), (C0020, 0.999998...\n",
      "9       C0010  [(C0047, 0.9999966614866559), (C0030, 0.999996...\n",
      "10      C0011  [(C0006, 0.999999787825755), (C0152, 0.9999997...\n",
      "11      C0012  [(C0093, 0.9999999361642606), (C0046, 0.999999...\n",
      "12      C0013  [(C0108, 0.999999954266087), (C0105, 0.9999998...\n",
      "13      C0014  [(C0150, 0.9999916698493704), (C0130, 0.999991...\n",
      "14      C0015  [(C0083, 0.9999891120949421), (C0020, 0.999723...\n",
      "15      C0016  [(C0040, 0.9999995298101311), (C0158, 0.999999...\n",
      "16      C0017  [(C0053, 0.9999994449904289), (C0136, 0.999999...\n",
      "17      C0018  [(C0162, 0.9999998706484516), (C0108, 0.999999...\n",
      "18      C0019  [(C0088, 0.9999982603233878), (C0116, 0.999997...\n",
      "19      C0020  [(C0080, 0.9999989938463089), (C0009, 0.999998...\n"
     ]
    }
   ],
   "source": [
    "print(lookalike_df)"
   ]
  },
  {
   "cell_type": "markdown",
   "metadata": {},
   "source": [
    "### Task 3: Customer Segmentation / Clustering"
   ]
  },
  {
   "cell_type": "code",
   "execution_count": 19,
   "metadata": {},
   "outputs": [],
   "source": [
    "# Standardize numeric features\n",
    "scaler = StandardScaler()\n",
    "scaled_data = scaler.fit_transform(customer_profiles.iloc[:, 1:])"
   ]
  },
  {
   "cell_type": "code",
   "execution_count": 21,
   "metadata": {},
   "outputs": [
    {
     "name": "stderr",
     "output_type": "stream",
     "text": [
      "c:\\Users\\Subhash Gupta\\anaconda3\\Lib\\site-packages\\sklearn\\cluster\\_kmeans.py:1429: UserWarning: KMeans is known to have a memory leak on Windows with MKL, when there are less chunks than available threads. You can avoid it by setting the environment variable OMP_NUM_THREADS=1.\n",
      "  warnings.warn(\n"
     ]
    }
   ],
   "source": [
    "# Apply KMeans clustering\n",
    "kmeans = KMeans(n_clusters=4, random_state=42)\n",
    "clusters = kmeans.fit_predict(scaled_data)\n",
    "customer_profiles['Cluster'] = clusters"
   ]
  },
  {
   "cell_type": "code",
   "execution_count": 22,
   "metadata": {},
   "outputs": [
    {
     "name": "stdout",
     "output_type": "stream",
     "text": [
      "Davies-Bouldin Index: 0.9319194864587907\n"
     ]
    }
   ],
   "source": [
    "# Calculate DB Index\n",
    "db_index = davies_bouldin_score(scaled_data, clusters)\n",
    "print(\"Davies-Bouldin Index:\", db_index)"
   ]
  },
  {
   "cell_type": "code",
   "execution_count": 23,
   "metadata": {},
   "outputs": [
    {
     "data": {
      "image/png": "[encoded data removed]",
      "text/plain": [
       "<Figure size 1000x600 with 1 Axes>"
      ]
     },
     "metadata": {},
     "output_type": "display_data"
    }
   ],
   "source": [
    "# Visualize clusters\n",
    "plt.figure(figsize=(10, 6))\n",
    "sns.scatterplot(\n",
    "    x=scaled_data[:, 0], y=scaled_data[:, 1], hue=clusters, palette='viridis', s=100\n",
    ")\n",
    "plt.title('Customer Clusters')\n",
    "plt.xlabel('Feature 1')\n",
    "plt.ylabel('Feature 2')\n",
    "plt.show()"
   ]
  },
  {
   "cell_type": "code",
   "execution_count": 24,
   "metadata": {},
   "outputs": [],
   "source": [
    "# Save clustering results\n",
    "customer_profiles.to_csv('Customer_Segmentation.csv', index=False)"
   ]
  },
  {
   "cell_type": "code",
   "execution_count": null,
   "metadata": {},
   "outputs": [],
   "source": []
  }
 ],
 "metadata": {
  "kernelspec": {
   "display_name": "Python 3",
   "language": "python",
   "name": "python3"
  },
  "language_info": {
   "codemirror_mode": {
    "name": "ipython",
    "version": 3
   },
   "file_extension": ".py",
   "mimetype": "text/x-python",
   "name": "python",
   "nbconvert_exporter": "python",
   "pygments_lexer": "ipython3",
   "version": "3.12.7"
  }
 },
 "nbformat": 4,
 "nbformat_minor": 2
}
